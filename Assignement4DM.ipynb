{
  "nbformat": 4,
  "nbformat_minor": 0,
  "metadata": {
    "colab": {
      "provenance": []
    },
    "kernelspec": {
      "name": "python3",
      "display_name": "Python 3"
    },
    "language_info": {
      "name": "python"
    }
  },
  "cells": [
    {
      "cell_type": "markdown",
      "source": [
        "# 1. Import dan Muat Dataset"
      ],
      "metadata": {
        "id": "uEJqy7oXAd0-"
      }
    },
    {
      "cell_type": "code",
      "execution_count": 2,
      "metadata": {
        "colab": {
          "base_uri": "https://localhost:8080/"
        },
        "id": "c4gfm4nmuzEN",
        "outputId": "c0dd492b-60b2-44ef-e5a4-343229f0f279"
      },
      "outputs": [
        {
          "output_type": "stream",
          "name": "stdout",
          "text": [
            "['Sheet1']\n",
            "      38 Provinsi                                         Unnamed: 1  \\\n",
            "0             NaN  Luas Panen, Produksi, dan Produktivitas Padi M...   \n",
            "1             NaN                                    Luas Panen (ha)   \n",
            "2             NaN                                               2018   \n",
            "3            ACEH                                          329515.78   \n",
            "4  SUMATERA UTARA                                          408176.45   \n",
            "\n",
            "  Unnamed: 2 Unnamed: 3 Unnamed: 4 Unnamed: 5  Unnamed: 6  Unnamed: 7  \\\n",
            "0        NaN        NaN        NaN        NaN         NaN         NaN   \n",
            "1        NaN        NaN        NaN        NaN         NaN         NaN   \n",
            "2       2019       2020       2021       2022     2023.00     2024.00   \n",
            "3  310012.46  317869.41  297058.38   271750.2   254287.38   301081.97   \n",
            "4  413141.24  388591.22     385405   411462.1   406109.49   419089.12   \n",
            "\n",
            "              Unnamed: 8 Unnamed: 9  ... Unnamed: 12 Unnamed: 13 Unnamed: 14  \\\n",
            "0                    NaN        NaN  ...         NaN         NaN         NaN   \n",
            "1  Produktivitas (ku/ha)        NaN  ...         NaN         NaN         NaN   \n",
            "2                   2018       2019  ...        2022     2023.00     2024.00   \n",
            "3                  56.49       55.3  ...       55.55       55.22       54.58   \n",
            "4                  51.65      50.32  ...       50.76       51.40       51.40   \n",
            "\n",
            "      Unnamed: 15  Unnamed: 16 Unnamed: 17 Unnamed: 18 Unnamed: 19  \\\n",
            "0             NaN          NaN         NaN         NaN         NaN   \n",
            "1  Produksi (ton)          NaN         NaN         NaN         NaN   \n",
            "2            2018         2019        2020        2021        2022   \n",
            "3       1861567.1    1714437.6  1757313.07   1634639.6     1509456   \n",
            "4      2108284.72   2078901.59  2040500.19  2004142.51     2088584   \n",
            "\n",
            "  Unnamed: 20 Unnamed: 21  \n",
            "0         NaN         NaN  \n",
            "1         NaN         NaN  \n",
            "2     2023.00     2024.00  \n",
            "3  1404234.82  1643355.07  \n",
            "4  2087474.15  2154117.08  \n",
            "\n",
            "[5 rows x 22 columns]\n"
          ]
        }
      ],
      "source": [
        "import pandas as pd\n",
        "\n",
        "# Load the dataset\n",
        "file_path = 'Luas Panen, Produksi, dan Produktivitas Padi Menurut Provinsi, 2018-2024.xlsx'\n",
        "data = pd.ExcelFile(file_path)\n",
        "\n",
        "# Periksa sheet yang tersedia\n",
        "print(data.sheet_names)\n",
        "\n",
        "# Muat data dari sheet pertama\n",
        "df = data.parse('Sheet1')\n",
        "print(df.head())  # Lihat beberapa baris pertama untuk memahami struktur data"
      ]
    },
    {
      "cell_type": "markdown",
      "source": [
        "# 2. Membersihkan Dataset"
      ],
      "metadata": {
        "id": "9B0Nl5oaAmN9"
      }
    },
    {
      "cell_type": "code",
      "source": [
        "# Set baris ke-2 sebagai header dan muat ulang data\n",
        "df_cleaned = data.parse('Sheet1', header=2)\n",
        "\n",
        "# Hapus baris pertama yang berisi informasi lama\n",
        "df_cleaned = df_cleaned.iloc[1:]\n",
        "\n",
        "# Beri nama kolom yang sesuai\n",
        "df_cleaned.columns = [\n",
        "    \"Provinsi\", \"Luas Panen 2018\", \"Luas Panen 2019\", \"Luas Panen 2020\",\n",
        "    \"Luas Panen 2021\", \"Luas Panen 2022\", \"Luas Panen 2023\", \"Luas Panen 2024\",\n",
        "    \"Produktivitas 2018\", \"Produktivitas 2019\", \"Produktivitas 2020\",\n",
        "    \"Produktivitas 2021\", \"Produktivitas 2022\", \"Produktivitas 2023\",\n",
        "    \"Produktivitas 2024\", \"Produksi 2018\", \"Produksi 2019\", \"Produksi 2020\",\n",
        "    \"Produksi 2021\", \"Produksi 2022\", \"Produksi 2023\", \"Produksi 2024\"\n",
        "]\n",
        "\n",
        "# Reset index untuk merapikan\n",
        "df_cleaned = df_cleaned.reset_index(drop=True)\n",
        "\n",
        "# Tampilkan hasil\n",
        "print(df_cleaned.head())"
      ],
      "metadata": {
        "colab": {
          "base_uri": "https://localhost:8080/"
        },
        "id": "pe3HrVbi_98u",
        "outputId": "8846465e-fe47-49c8-e203-0e183cd5df3f"
      },
      "execution_count": 3,
      "outputs": [
        {
          "output_type": "stream",
          "name": "stdout",
          "text": [
            "         Provinsi Luas Panen 2018 Luas Panen 2019 Luas Panen 2020  \\\n",
            "0            ACEH       329515.78       310012.46       317869.41   \n",
            "1  SUMATERA UTARA       408176.45       413141.24       388591.22   \n",
            "2  SUMATERA BARAT       313050.82       311671.23       295664.47   \n",
            "3            RIAU        71448.08        63142.04        64733.13   \n",
            "4           JAMBI        86202.68        69536.06        84772.93   \n",
            "\n",
            "  Luas Panen 2021 Luas Panen 2022  Luas Panen 2023  Luas Panen 2024  \\\n",
            "0       297058.38        271750.2        254287.38        301081.97   \n",
            "1          385405        411462.1        406109.49        419089.12   \n",
            "2       272391.95        271883.1        300564.77        296215.93   \n",
            "3        53062.35        51054.04         51914.14         57003.35   \n",
            "4        64412.26        60539.59         61236.64         64119.24   \n",
            "\n",
            "  Produktivitas 2018 Produktivitas 2019  ... Produktivitas 2022  \\\n",
            "0              56.49               55.3  ...              55.55   \n",
            "1              51.65              50.32  ...              50.76   \n",
            "2              47.37              47.58  ...              50.52   \n",
            "3              37.28              36.56  ...              41.83   \n",
            "4              44.44              44.57  ...              45.88   \n",
            "\n",
            "  Produktivitas 2023 Produktivitas 2024  Produksi 2018  Produksi 2019  \\\n",
            "0              55.22              54.58      1861567.1      1714437.6   \n",
            "1              51.40              51.40     2108284.72     2078901.59   \n",
            "2              49.32              45.64     1483076.48     1482996.01   \n",
            "3              39.68              39.62      266375.53      230873.97   \n",
            "4              45.06              45.44      383045.74      309932.68   \n",
            "\n",
            "  Produksi 2020 Produksi 2021 Produksi 2022 Produksi 2023 Produksi 2024  \n",
            "0    1757313.07     1634639.6       1509456    1404234.82    1643355.07  \n",
            "1    2040500.19    2004142.51       2088584    2087474.15    2154117.08  \n",
            "2    1387269.29    1317209.38       1373532    1482468.79    1352048.77  \n",
            "3     243685.04     217458.87      213557.2     205972.55     225836.50  \n",
            "4     386413.49     298149.25      277743.8     275941.45     291367.31  \n",
            "\n",
            "[5 rows x 22 columns]\n"
          ]
        }
      ]
    },
    {
      "cell_type": "markdown",
      "source": [
        "# 3. Konversi Tipe Data"
      ],
      "metadata": {
        "id": "PRcE-S6bArjN"
      }
    },
    {
      "cell_type": "code",
      "source": [
        "# Konversi nilai ke tipe data numerik\n",
        "numeric_columns = df_cleaned.columns[1:]  # Semua kolom kecuali \"Provinsi\"\n",
        "df_cleaned[numeric_columns] = df_cleaned[numeric_columns].apply(pd.to_numeric, errors='coerce')\n",
        "\n",
        "# Tampilkan hasil\n",
        "print(df_cleaned.info())"
      ],
      "metadata": {
        "colab": {
          "base_uri": "https://localhost:8080/"
        },
        "id": "kerMjH3nAA3l",
        "outputId": "8b7bf6d4-a28e-47d6-807a-733e9784a39a"
      },
      "execution_count": 4,
      "outputs": [
        {
          "output_type": "stream",
          "name": "stdout",
          "text": [
            "<class 'pandas.core.frame.DataFrame'>\n",
            "RangeIndex: 39 entries, 0 to 38\n",
            "Data columns (total 22 columns):\n",
            " #   Column              Non-Null Count  Dtype  \n",
            "---  ------              --------------  -----  \n",
            " 0   Provinsi            39 non-null     object \n",
            " 1   Luas Panen 2018     35 non-null     float64\n",
            " 2   Luas Panen 2019     35 non-null     float64\n",
            " 3   Luas Panen 2020     35 non-null     float64\n",
            " 4   Luas Panen 2021     35 non-null     float64\n",
            " 5   Luas Panen 2022     35 non-null     float64\n",
            " 6   Luas Panen 2023     39 non-null     float64\n",
            " 7   Luas Panen 2024     39 non-null     float64\n",
            " 8   Produktivitas 2018  35 non-null     float64\n",
            " 9   Produktivitas 2019  35 non-null     float64\n",
            " 10  Produktivitas 2020  35 non-null     float64\n",
            " 11  Produktivitas 2021  35 non-null     float64\n",
            " 12  Produktivitas 2022  35 non-null     float64\n",
            " 13  Produktivitas 2023  39 non-null     float64\n",
            " 14  Produktivitas 2024  39 non-null     float64\n",
            " 15  Produksi 2018       35 non-null     float64\n",
            " 16  Produksi 2019       35 non-null     float64\n",
            " 17  Produksi 2020       35 non-null     float64\n",
            " 18  Produksi 2021       35 non-null     float64\n",
            " 19  Produksi 2022       35 non-null     float64\n",
            " 20  Produksi 2023       39 non-null     float64\n",
            " 21  Produksi 2024       39 non-null     float64\n",
            "dtypes: float64(21), object(1)\n",
            "memory usage: 6.8+ KB\n",
            "None\n"
          ]
        }
      ]
    },
    {
      "cell_type": "markdown",
      "source": [
        "# 4. Tambahkan Fitur Baru"
      ],
      "metadata": {
        "id": "b7rmQxAuAvme"
      }
    },
    {
      "cell_type": "code",
      "source": [
        "# Tambahkan fitur selisih antar tahun\n",
        "for metric in [\"Luas Panen\", \"Produktivitas\", \"Produksi\"]:\n",
        "    for year in range(2018, 2024):\n",
        "        next_year = year + 1\n",
        "        if next_year <= 2024:\n",
        "            diff_col = f\"Selisih {metric} {year}-{next_year}\"\n",
        "            df_cleaned[diff_col] = df_cleaned[f\"{metric} {next_year}\"] - df_cleaned[f\"{metric} {year}\"]\n",
        "\n",
        "# Tampilkan hasil\n",
        "print(df_cleaned.head())"
      ],
      "metadata": {
        "colab": {
          "base_uri": "https://localhost:8080/"
        },
        "id": "Mf5GJ02lADQ9",
        "outputId": "dca78239-2215-49a4-e2a0-fe4a1d58cea3"
      },
      "execution_count": 5,
      "outputs": [
        {
          "output_type": "stream",
          "name": "stdout",
          "text": [
            "         Provinsi  Luas Panen 2018  Luas Panen 2019  Luas Panen 2020  \\\n",
            "0            ACEH        329515.78        310012.46        317869.41   \n",
            "1  SUMATERA UTARA        408176.45        413141.24        388591.22   \n",
            "2  SUMATERA BARAT        313050.82        311671.23        295664.47   \n",
            "3            RIAU         71448.08         63142.04         64733.13   \n",
            "4           JAMBI         86202.68         69536.06         84772.93   \n",
            "\n",
            "   Luas Panen 2021  Luas Panen 2022  Luas Panen 2023  Luas Panen 2024  \\\n",
            "0        297058.38        271750.20        254287.38        301081.97   \n",
            "1        385405.00        411462.10        406109.49        419089.12   \n",
            "2        272391.95        271883.10        300564.77        296215.93   \n",
            "3         53062.35         51054.04         51914.14         57003.35   \n",
            "4         64412.26         60539.59         61236.64         64119.24   \n",
            "\n",
            "   Produktivitas 2018  Produktivitas 2019  ...  \\\n",
            "0               56.49               55.30  ...   \n",
            "1               51.65               50.32  ...   \n",
            "2               47.37               47.58  ...   \n",
            "3               37.28               36.56  ...   \n",
            "4               44.44               44.57  ...   \n",
            "\n",
            "   Selisih Produktivitas 2020-2021  Selisih Produktivitas 2021-2022  \\\n",
            "0                            -0.25                             0.52   \n",
            "1                            -0.51                            -1.24   \n",
            "2                             1.44                             2.16   \n",
            "3                             3.34                             0.85   \n",
            "4                             0.71                            -0.41   \n",
            "\n",
            "   Selisih Produktivitas 2022-2023  Selisih Produktivitas 2023-2024  \\\n",
            "0                            -0.33                            -0.64   \n",
            "1                             0.64                             0.00   \n",
            "2                            -1.20                            -3.68   \n",
            "3                            -2.15                            -0.06   \n",
            "4                            -0.82                             0.38   \n",
            "\n",
            "   Selisih Produksi 2018-2019  Selisih Produksi 2019-2020  \\\n",
            "0                  -147129.50                    42875.47   \n",
            "1                   -29383.13                   -38401.40   \n",
            "2                      -80.47                   -95726.72   \n",
            "3                   -35501.56                    12811.07   \n",
            "4                   -73113.06                    76480.81   \n",
            "\n",
            "   Selisih Produksi 2020-2021  Selisih Produksi 2021-2022  \\\n",
            "0                  -122673.47                  -125183.60   \n",
            "1                   -36357.68                    84441.49   \n",
            "2                   -70059.91                    56322.62   \n",
            "3                   -26226.17                    -3901.67   \n",
            "4                   -88264.24                   -20405.45   \n",
            "\n",
            "   Selisih Produksi 2022-2023  Selisih Produksi 2023-2024  \n",
            "0                  -105221.18                   239120.25  \n",
            "1                    -1109.85                    66642.93  \n",
            "2                   108936.79                  -130420.02  \n",
            "3                    -7584.65                    19863.95  \n",
            "4                    -1802.35                    15425.86  \n",
            "\n",
            "[5 rows x 40 columns]\n"
          ]
        }
      ]
    },
    {
      "cell_type": "markdown",
      "source": [
        "# 5. Simpan Dataset yang Telah Diolah"
      ],
      "metadata": {
        "id": "hTSzT3ITA3Y2"
      }
    },
    {
      "cell_type": "code",
      "source": [
        "# Simpan dataset ke file baru\n",
        "output_file = 'Dataset_Padi_Olah.xlsx'\n",
        "df_cleaned.to_excel(output_file, index=False)\n",
        "print(f\"Dataset berhasil disimpan ke {output_file}\")"
      ],
      "metadata": {
        "colab": {
          "base_uri": "https://localhost:8080/"
        },
        "id": "Wimg4SKdAGnl",
        "outputId": "439429bd-17eb-4a8a-c745-87dab6707872"
      },
      "execution_count": 6,
      "outputs": [
        {
          "output_type": "stream",
          "name": "stdout",
          "text": [
            "Dataset berhasil disimpan ke Dataset_Padi_Olah.xlsx\n"
          ]
        }
      ]
    }
  ]
}